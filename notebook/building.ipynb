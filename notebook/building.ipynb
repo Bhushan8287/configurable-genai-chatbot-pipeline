{
 "cells": [
  {
   "cell_type": "code",
   "execution_count": 1,
   "id": "755d3507",
   "metadata": {},
   "outputs": [],
   "source": [
    "from langchain_community.document_loaders import TextLoader, PyPDFLoader, WikipediaLoader\n",
    "from langchain.text_splitter import RecursiveCharacterTextSplitter"
   ]
  },
  {
   "cell_type": "code",
   "execution_count": 2,
   "id": "a86327bb",
   "metadata": {},
   "outputs": [
    {
     "data": {
      "text/plain": [
       "[Document(metadata={'source': 'C:/Users/BW/Desktop/Basic gen ai chatbot project/data/text_data.txt'}, page_content='Philosophy is the study of fundamental questions about life, existence, knowledge, values, reason, and reality. The word itself comes from the Greek roots *philo* (love) and *sophia* (wisdom), meaning \"love of wisdom.\" Philosophers explore big questions like \"What is truth?\", \"What is a good life?\", and \"Do we have free will?\" through careful reasoning and debate. Over time, philosophy has branched into areas like ethics (how we should act), metaphysics (what exists), epistemology (how we know things), and logic (how we reason). It’s not just abstract thinking—philosophy helps shape how we understand science, politics, art, and even our daily decisions. Philosophy branches out into several key areas, each exploring different aspects of human thought and experience. **Metaphysics** asks what exists and what it means for something to be real. **Epistemology** dives into how we know what we know—what counts as knowledge, and how we can trust it. **Ethics** explores questions of right and wrong, helping us think through moral dilemmas and how we should live. **Logic** is the study of reasoning itself, teaching us how to build sound arguments and avoid fallacies. Beyond these, there’s **aesthetics**, which examines beauty, art, and taste—why we find things beautiful or meaningful. **Political philosophy** looks at how societies should be organized, what justice means, and the role of governments. **Axiology**, a broader category, studies values in general, including both ethics and aesthetics. Philosophy doesn’t just live in books or classrooms—it shapes how we think about science, law, education, and even technology. It encourages critical thinking, open-mindedness, and the ability to see issues from multiple perspectives. Whether you\\'re pondering the nature of consciousness or debating the ethics of AI, philosophy gives you the tools to think deeply and clearly. Critical thinking in the realm of text data is the ability to navigate written content with a mindset that is questioning, analytical, and reflective. It goes far beyond simply reading for understanding—it involves an active engagement with the material that challenges the reader to assess both the content and the intent behind the words. When practicing critical thinking, a person doesn’t just absorb the ideas presented; they interrogate the logic of those ideas, the quality of the evidence, the possible biases of the author, and the broader context in which the text was produced. At the core of this skill lies the ability to evaluate arguments systematically. This includes examining whether the claims made are backed by credible data, whether conclusions logically follow from premises, and whether rhetorical strategies are being used to persuade rather than inform. Critical thinkers are trained to identify logical fallacies such as false dilemmas, straw man arguments, ad hominem attacks, and appeals to emotion—all of which can weaken the integrity of a message. They also pay attention to tone and language—words can subtly shape perception by implying urgency, authority, or morality, often without evidence. For example, describing a policy as “reckless” carries a loaded judgment that demands scrutiny. Another vital component of critical thinking is the recognition of assumptions. These are the unstated beliefs that underpin arguments, which, when left unchallenged, can skew one’s understanding of a topic. For example, a news article might assume that economic growth is always desirable—an assumption worth questioning depending on the environmental or social trade-offs involved. By bringing such assumptions to light, readers can form more nuanced views and remain open to alternative interpretations. Moreover, critical thinking includes the habit of comparing sources. In an age of abundant information and misinformation, discerning truth often requires checking how different texts treat the same event or idea. Contrasting perspectives—say from scholarly articles, opinion pieces, and statistical reports—can help triangulate a more balanced understanding. This practice also trains individuals to distinguish between fact and opinion, between data and interpretation, and between reliable and dubious sources. Ultimately, critical thinking empowers individuals to draw their own informed conclusions rather than relying solely on the authority or appeal of a single text. It cultivates intellectual autonomy and integrity—qualities that are increasingly vital in an information-rich world where narratives compete for our attention and allegiance. This skill isn’t confined to academia or professional settings; it’s equally relevant in personal decision-making, social interactions, and civic engagement.')]"
      ]
     },
     "execution_count": 2,
     "metadata": {},
     "output_type": "execute_result"
    }
   ],
   "source": [
    "data_loader = TextLoader(r\"C:/Users/BW/Desktop/Basic gen ai chatbot project/data/text_data.txt\")\n",
    "loaded_data = data_loader.load()\n",
    "loaded_data"
   ]
  },
  {
   "cell_type": "code",
   "execution_count": 3,
   "id": "ddb814c8",
   "metadata": {},
   "outputs": [
    {
     "data": {
      "text/plain": [
       "langchain_core.documents.base.Document"
      ]
     },
     "execution_count": 3,
     "metadata": {},
     "output_type": "execute_result"
    }
   ],
   "source": [
    "type(loaded_data[0])"
   ]
  },
  {
   "cell_type": "code",
   "execution_count": 6,
   "id": "5ed98da6",
   "metadata": {},
   "outputs": [
    {
     "data": {
      "text/plain": [
       "[Document(metadata={'source': 'C:/Users/BW/Desktop/Basic gen ai chatbot project/data/text_data.txt'}, page_content='Philosophy is the study of fundamental questions about life, existence, knowledge, values, reason,'),\n",
       " Document(metadata={'source': 'C:/Users/BW/Desktop/Basic gen ai chatbot project/data/text_data.txt'}, page_content='about life, existence, knowledge, values, reason, and reality. The word itself comes from the Greek'),\n",
       " Document(metadata={'source': 'C:/Users/BW/Desktop/Basic gen ai chatbot project/data/text_data.txt'}, page_content='and reality. The word itself comes from the Greek roots *philo* (love) and *sophia* (wisdom),'),\n",
       " Document(metadata={'source': 'C:/Users/BW/Desktop/Basic gen ai chatbot project/data/text_data.txt'}, page_content='Greek roots *philo* (love) and *sophia* (wisdom), meaning \"love of wisdom.\" Philosophers explore'),\n",
       " Document(metadata={'source': 'C:/Users/BW/Desktop/Basic gen ai chatbot project/data/text_data.txt'}, page_content='meaning \"love of wisdom.\" Philosophers explore big questions like \"What is truth?\", \"What is a good'),\n",
       " Document(metadata={'source': 'C:/Users/BW/Desktop/Basic gen ai chatbot project/data/text_data.txt'}, page_content='questions like \"What is truth?\", \"What is a good life?\", and \"Do we have free will?\" through'),\n",
       " Document(metadata={'source': 'C:/Users/BW/Desktop/Basic gen ai chatbot project/data/text_data.txt'}, page_content='good life?\", and \"Do we have free will?\" through careful reasoning and debate. Over time,'),\n",
       " Document(metadata={'source': 'C:/Users/BW/Desktop/Basic gen ai chatbot project/data/text_data.txt'}, page_content='through careful reasoning and debate. Over time, philosophy has branched into areas like ethics'),\n",
       " Document(metadata={'source': 'C:/Users/BW/Desktop/Basic gen ai chatbot project/data/text_data.txt'}, page_content='philosophy has branched into areas like ethics (how we should act), metaphysics (what exists),'),\n",
       " Document(metadata={'source': 'C:/Users/BW/Desktop/Basic gen ai chatbot project/data/text_data.txt'}, page_content='(how we should act), metaphysics (what exists), epistemology (how we know things), and logic (how'),\n",
       " Document(metadata={'source': 'C:/Users/BW/Desktop/Basic gen ai chatbot project/data/text_data.txt'}, page_content='epistemology (how we know things), and logic (how we reason). It’s not just abstract'),\n",
       " Document(metadata={'source': 'C:/Users/BW/Desktop/Basic gen ai chatbot project/data/text_data.txt'}, page_content='and logic (how we reason). It’s not just abstract thinking—philosophy helps shape how we understand'),\n",
       " Document(metadata={'source': 'C:/Users/BW/Desktop/Basic gen ai chatbot project/data/text_data.txt'}, page_content='thinking—philosophy helps shape how we understand science, politics, art, and even our daily'),\n",
       " Document(metadata={'source': 'C:/Users/BW/Desktop/Basic gen ai chatbot project/data/text_data.txt'}, page_content='science, politics, art, and even our daily decisions. Philosophy branches out into several key'),\n",
       " Document(metadata={'source': 'C:/Users/BW/Desktop/Basic gen ai chatbot project/data/text_data.txt'}, page_content='Philosophy branches out into several key areas, each exploring different aspects of human thought'),\n",
       " Document(metadata={'source': 'C:/Users/BW/Desktop/Basic gen ai chatbot project/data/text_data.txt'}, page_content='each exploring different aspects of human thought and experience. **Metaphysics** asks what exists'),\n",
       " Document(metadata={'source': 'C:/Users/BW/Desktop/Basic gen ai chatbot project/data/text_data.txt'}, page_content='and experience. **Metaphysics** asks what exists and what it means for something to be real.'),\n",
       " Document(metadata={'source': 'C:/Users/BW/Desktop/Basic gen ai chatbot project/data/text_data.txt'}, page_content='and what it means for something to be real. **Epistemology** dives into how we know what we'),\n",
       " Document(metadata={'source': 'C:/Users/BW/Desktop/Basic gen ai chatbot project/data/text_data.txt'}, page_content='**Epistemology** dives into how we know what we know—what counts as knowledge, and how we can trust'),\n",
       " Document(metadata={'source': 'C:/Users/BW/Desktop/Basic gen ai chatbot project/data/text_data.txt'}, page_content='counts as knowledge, and how we can trust it. **Ethics** explores questions of right and wrong,'),\n",
       " Document(metadata={'source': 'C:/Users/BW/Desktop/Basic gen ai chatbot project/data/text_data.txt'}, page_content='**Ethics** explores questions of right and wrong, helping us think through moral dilemmas and how'),\n",
       " Document(metadata={'source': 'C:/Users/BW/Desktop/Basic gen ai chatbot project/data/text_data.txt'}, page_content='helping us think through moral dilemmas and how we should live. **Logic** is the study of reasoning'),\n",
       " Document(metadata={'source': 'C:/Users/BW/Desktop/Basic gen ai chatbot project/data/text_data.txt'}, page_content='should live. **Logic** is the study of reasoning itself, teaching us how to build sound arguments'),\n",
       " Document(metadata={'source': 'C:/Users/BW/Desktop/Basic gen ai chatbot project/data/text_data.txt'}, page_content='itself, teaching us how to build sound arguments and avoid fallacies. Beyond these, there’s'),\n",
       " Document(metadata={'source': 'C:/Users/BW/Desktop/Basic gen ai chatbot project/data/text_data.txt'}, page_content='and avoid fallacies. Beyond these, there’s **aesthetics**, which examines beauty, art, and'),\n",
       " Document(metadata={'source': 'C:/Users/BW/Desktop/Basic gen ai chatbot project/data/text_data.txt'}, page_content='**aesthetics**, which examines beauty, art, and taste—why we find things beautiful or meaningful.'),\n",
       " Document(metadata={'source': 'C:/Users/BW/Desktop/Basic gen ai chatbot project/data/text_data.txt'}, page_content='taste—why we find things beautiful or meaningful. **Political philosophy** looks at how societies'),\n",
       " Document(metadata={'source': 'C:/Users/BW/Desktop/Basic gen ai chatbot project/data/text_data.txt'}, page_content='**Political philosophy** looks at how societies should be organized, what justice means, and the'),\n",
       " Document(metadata={'source': 'C:/Users/BW/Desktop/Basic gen ai chatbot project/data/text_data.txt'}, page_content='should be organized, what justice means, and the role of governments. **Axiology**, a broader'),\n",
       " Document(metadata={'source': 'C:/Users/BW/Desktop/Basic gen ai chatbot project/data/text_data.txt'}, page_content='the role of governments. **Axiology**, a broader category, studies values in general, including'),\n",
       " Document(metadata={'source': 'C:/Users/BW/Desktop/Basic gen ai chatbot project/data/text_data.txt'}, page_content='category, studies values in general, including both ethics and aesthetics. Philosophy doesn’t just'),\n",
       " Document(metadata={'source': 'C:/Users/BW/Desktop/Basic gen ai chatbot project/data/text_data.txt'}, page_content='ethics and aesthetics. Philosophy doesn’t just live in books or classrooms—it shapes how we think'),\n",
       " Document(metadata={'source': 'C:/Users/BW/Desktop/Basic gen ai chatbot project/data/text_data.txt'}, page_content='in books or classrooms—it shapes how we think about science, law, education, and even technology.'),\n",
       " Document(metadata={'source': 'C:/Users/BW/Desktop/Basic gen ai chatbot project/data/text_data.txt'}, page_content='science, law, education, and even technology. It encourages critical thinking, open-mindedness, and'),\n",
       " Document(metadata={'source': 'C:/Users/BW/Desktop/Basic gen ai chatbot project/data/text_data.txt'}, page_content='critical thinking, open-mindedness, and the ability to see issues from multiple perspectives.'),\n",
       " Document(metadata={'source': 'C:/Users/BW/Desktop/Basic gen ai chatbot project/data/text_data.txt'}, page_content=\"ability to see issues from multiple perspectives. Whether you're pondering the nature of\"),\n",
       " Document(metadata={'source': 'C:/Users/BW/Desktop/Basic gen ai chatbot project/data/text_data.txt'}, page_content=\"Whether you're pondering the nature of consciousness or debating the ethics of AI, philosophy gives\"),\n",
       " Document(metadata={'source': 'C:/Users/BW/Desktop/Basic gen ai chatbot project/data/text_data.txt'}, page_content='or debating the ethics of AI, philosophy gives you the tools to think deeply and clearly. Critical'),\n",
       " Document(metadata={'source': 'C:/Users/BW/Desktop/Basic gen ai chatbot project/data/text_data.txt'}, page_content='the tools to think deeply and clearly. Critical thinking in the realm of text data is the ability'),\n",
       " Document(metadata={'source': 'C:/Users/BW/Desktop/Basic gen ai chatbot project/data/text_data.txt'}, page_content='thinking in the realm of text data is the ability to navigate written content with a mindset that'),\n",
       " Document(metadata={'source': 'C:/Users/BW/Desktop/Basic gen ai chatbot project/data/text_data.txt'}, page_content='to navigate written content with a mindset that is questioning, analytical, and reflective. It goes'),\n",
       " Document(metadata={'source': 'C:/Users/BW/Desktop/Basic gen ai chatbot project/data/text_data.txt'}, page_content='questioning, analytical, and reflective. It goes far beyond simply reading for understanding—it'),\n",
       " Document(metadata={'source': 'C:/Users/BW/Desktop/Basic gen ai chatbot project/data/text_data.txt'}, page_content='far beyond simply reading for understanding—it involves an active engagement with the material that'),\n",
       " Document(metadata={'source': 'C:/Users/BW/Desktop/Basic gen ai chatbot project/data/text_data.txt'}, page_content='an active engagement with the material that challenges the reader to assess both the content and'),\n",
       " Document(metadata={'source': 'C:/Users/BW/Desktop/Basic gen ai chatbot project/data/text_data.txt'}, page_content='the reader to assess both the content and the intent behind the words. When practicing critical'),\n",
       " Document(metadata={'source': 'C:/Users/BW/Desktop/Basic gen ai chatbot project/data/text_data.txt'}, page_content='intent behind the words. When practicing critical thinking, a person doesn’t just absorb the ideas'),\n",
       " Document(metadata={'source': 'C:/Users/BW/Desktop/Basic gen ai chatbot project/data/text_data.txt'}, page_content='thinking, a person doesn’t just absorb the ideas presented; they interrogate the logic of those'),\n",
       " Document(metadata={'source': 'C:/Users/BW/Desktop/Basic gen ai chatbot project/data/text_data.txt'}, page_content='presented; they interrogate the logic of those ideas, the quality of the evidence, the possible'),\n",
       " Document(metadata={'source': 'C:/Users/BW/Desktop/Basic gen ai chatbot project/data/text_data.txt'}, page_content='ideas, the quality of the evidence, the possible biases of the author, and the broader context in'),\n",
       " Document(metadata={'source': 'C:/Users/BW/Desktop/Basic gen ai chatbot project/data/text_data.txt'}, page_content='biases of the author, and the broader context in which the text was produced. At the core of this'),\n",
       " Document(metadata={'source': 'C:/Users/BW/Desktop/Basic gen ai chatbot project/data/text_data.txt'}, page_content='which the text was produced. At the core of this skill lies the ability to evaluate arguments'),\n",
       " Document(metadata={'source': 'C:/Users/BW/Desktop/Basic gen ai chatbot project/data/text_data.txt'}, page_content='this skill lies the ability to evaluate arguments systematically. This includes examining whether'),\n",
       " Document(metadata={'source': 'C:/Users/BW/Desktop/Basic gen ai chatbot project/data/text_data.txt'}, page_content='systematically. This includes examining whether the claims made are backed by credible data,'),\n",
       " Document(metadata={'source': 'C:/Users/BW/Desktop/Basic gen ai chatbot project/data/text_data.txt'}, page_content='the claims made are backed by credible data, whether conclusions logically follow from premises,'),\n",
       " Document(metadata={'source': 'C:/Users/BW/Desktop/Basic gen ai chatbot project/data/text_data.txt'}, page_content='conclusions logically follow from premises, and whether rhetorical strategies are being used to'),\n",
       " Document(metadata={'source': 'C:/Users/BW/Desktop/Basic gen ai chatbot project/data/text_data.txt'}, page_content='whether rhetorical strategies are being used to persuade rather than inform. Critical thinkers are'),\n",
       " Document(metadata={'source': 'C:/Users/BW/Desktop/Basic gen ai chatbot project/data/text_data.txt'}, page_content='rather than inform. Critical thinkers are trained to identify logical fallacies such as false'),\n",
       " Document(metadata={'source': 'C:/Users/BW/Desktop/Basic gen ai chatbot project/data/text_data.txt'}, page_content='to identify logical fallacies such as false dilemmas, straw man arguments, ad hominem attacks, and'),\n",
       " Document(metadata={'source': 'C:/Users/BW/Desktop/Basic gen ai chatbot project/data/text_data.txt'}, page_content='straw man arguments, ad hominem attacks, and appeals to emotion—all of which can weaken the'),\n",
       " Document(metadata={'source': 'C:/Users/BW/Desktop/Basic gen ai chatbot project/data/text_data.txt'}, page_content='appeals to emotion—all of which can weaken the integrity of a message. They also pay attention to'),\n",
       " Document(metadata={'source': 'C:/Users/BW/Desktop/Basic gen ai chatbot project/data/text_data.txt'}, page_content='of a message. They also pay attention to tone and language—words can subtly shape perception by'),\n",
       " Document(metadata={'source': 'C:/Users/BW/Desktop/Basic gen ai chatbot project/data/text_data.txt'}, page_content='and language—words can subtly shape perception by implying urgency, authority, or morality, often'),\n",
       " Document(metadata={'source': 'C:/Users/BW/Desktop/Basic gen ai chatbot project/data/text_data.txt'}, page_content='implying urgency, authority, or morality, often without evidence. For example, describing a policy'),\n",
       " Document(metadata={'source': 'C:/Users/BW/Desktop/Basic gen ai chatbot project/data/text_data.txt'}, page_content='evidence. For example, describing a policy as “reckless” carries a loaded judgment that demands'),\n",
       " Document(metadata={'source': 'C:/Users/BW/Desktop/Basic gen ai chatbot project/data/text_data.txt'}, page_content='“reckless” carries a loaded judgment that demands scrutiny. Another vital component of critical'),\n",
       " Document(metadata={'source': 'C:/Users/BW/Desktop/Basic gen ai chatbot project/data/text_data.txt'}, page_content='scrutiny. Another vital component of critical thinking is the recognition of assumptions. These are'),\n",
       " Document(metadata={'source': 'C:/Users/BW/Desktop/Basic gen ai chatbot project/data/text_data.txt'}, page_content='is the recognition of assumptions. These are the unstated beliefs that underpin arguments, which,'),\n",
       " Document(metadata={'source': 'C:/Users/BW/Desktop/Basic gen ai chatbot project/data/text_data.txt'}, page_content='unstated beliefs that underpin arguments, which, when left unchallenged, can skew one’s'),\n",
       " Document(metadata={'source': 'C:/Users/BW/Desktop/Basic gen ai chatbot project/data/text_data.txt'}, page_content='which, when left unchallenged, can skew one’s understanding of a topic. For example, a news article'),\n",
       " Document(metadata={'source': 'C:/Users/BW/Desktop/Basic gen ai chatbot project/data/text_data.txt'}, page_content='of a topic. For example, a news article might assume that economic growth is always desirable—an'),\n",
       " Document(metadata={'source': 'C:/Users/BW/Desktop/Basic gen ai chatbot project/data/text_data.txt'}, page_content='that economic growth is always desirable—an assumption worth questioning depending on the'),\n",
       " Document(metadata={'source': 'C:/Users/BW/Desktop/Basic gen ai chatbot project/data/text_data.txt'}, page_content='assumption worth questioning depending on the environmental or social trade-offs involved. By'),\n",
       " Document(metadata={'source': 'C:/Users/BW/Desktop/Basic gen ai chatbot project/data/text_data.txt'}, page_content='environmental or social trade-offs involved. By bringing such assumptions to light, readers can'),\n",
       " Document(metadata={'source': 'C:/Users/BW/Desktop/Basic gen ai chatbot project/data/text_data.txt'}, page_content='bringing such assumptions to light, readers can form more nuanced views and remain open to'),\n",
       " Document(metadata={'source': 'C:/Users/BW/Desktop/Basic gen ai chatbot project/data/text_data.txt'}, page_content='can form more nuanced views and remain open to alternative interpretations. Moreover, critical'),\n",
       " Document(metadata={'source': 'C:/Users/BW/Desktop/Basic gen ai chatbot project/data/text_data.txt'}, page_content='alternative interpretations. Moreover, critical thinking includes the habit of comparing sources.'),\n",
       " Document(metadata={'source': 'C:/Users/BW/Desktop/Basic gen ai chatbot project/data/text_data.txt'}, page_content='thinking includes the habit of comparing sources. In an age of abundant information and'),\n",
       " Document(metadata={'source': 'C:/Users/BW/Desktop/Basic gen ai chatbot project/data/text_data.txt'}, page_content='sources. In an age of abundant information and misinformation, discerning truth often requires'),\n",
       " Document(metadata={'source': 'C:/Users/BW/Desktop/Basic gen ai chatbot project/data/text_data.txt'}, page_content='misinformation, discerning truth often requires checking how different texts treat the same event'),\n",
       " Document(metadata={'source': 'C:/Users/BW/Desktop/Basic gen ai chatbot project/data/text_data.txt'}, page_content='checking how different texts treat the same event or idea. Contrasting perspectives—say from'),\n",
       " Document(metadata={'source': 'C:/Users/BW/Desktop/Basic gen ai chatbot project/data/text_data.txt'}, page_content='event or idea. Contrasting perspectives—say from scholarly articles, opinion pieces, and'),\n",
       " Document(metadata={'source': 'C:/Users/BW/Desktop/Basic gen ai chatbot project/data/text_data.txt'}, page_content='from scholarly articles, opinion pieces, and statistical reports—can help triangulate a more'),\n",
       " Document(metadata={'source': 'C:/Users/BW/Desktop/Basic gen ai chatbot project/data/text_data.txt'}, page_content='statistical reports—can help triangulate a more balanced understanding. This practice also trains'),\n",
       " Document(metadata={'source': 'C:/Users/BW/Desktop/Basic gen ai chatbot project/data/text_data.txt'}, page_content='balanced understanding. This practice also trains individuals to distinguish between fact and'),\n",
       " Document(metadata={'source': 'C:/Users/BW/Desktop/Basic gen ai chatbot project/data/text_data.txt'}, page_content='individuals to distinguish between fact and opinion, between data and interpretation, and between'),\n",
       " Document(metadata={'source': 'C:/Users/BW/Desktop/Basic gen ai chatbot project/data/text_data.txt'}, page_content='between data and interpretation, and between reliable and dubious sources. Ultimately, critical'),\n",
       " Document(metadata={'source': 'C:/Users/BW/Desktop/Basic gen ai chatbot project/data/text_data.txt'}, page_content='and dubious sources. Ultimately, critical thinking empowers individuals to draw their own informed'),\n",
       " Document(metadata={'source': 'C:/Users/BW/Desktop/Basic gen ai chatbot project/data/text_data.txt'}, page_content='empowers individuals to draw their own informed conclusions rather than relying solely on the'),\n",
       " Document(metadata={'source': 'C:/Users/BW/Desktop/Basic gen ai chatbot project/data/text_data.txt'}, page_content='conclusions rather than relying solely on the authority or appeal of a single text. It cultivates'),\n",
       " Document(metadata={'source': 'C:/Users/BW/Desktop/Basic gen ai chatbot project/data/text_data.txt'}, page_content='or appeal of a single text. It cultivates intellectual autonomy and integrity—qualities that are'),\n",
       " Document(metadata={'source': 'C:/Users/BW/Desktop/Basic gen ai chatbot project/data/text_data.txt'}, page_content='autonomy and integrity—qualities that are increasingly vital in an information-rich world where'),\n",
       " Document(metadata={'source': 'C:/Users/BW/Desktop/Basic gen ai chatbot project/data/text_data.txt'}, page_content='vital in an information-rich world where narratives compete for our attention and allegiance. This'),\n",
       " Document(metadata={'source': 'C:/Users/BW/Desktop/Basic gen ai chatbot project/data/text_data.txt'}, page_content='compete for our attention and allegiance. This skill isn’t confined to academia or professional'),\n",
       " Document(metadata={'source': 'C:/Users/BW/Desktop/Basic gen ai chatbot project/data/text_data.txt'}, page_content='skill isn’t confined to academia or professional settings; it’s equally relevant in personal'),\n",
       " Document(metadata={'source': 'C:/Users/BW/Desktop/Basic gen ai chatbot project/data/text_data.txt'}, page_content='settings; it’s equally relevant in personal decision-making, social interactions, and civic'),\n",
       " Document(metadata={'source': 'C:/Users/BW/Desktop/Basic gen ai chatbot project/data/text_data.txt'}, page_content='decision-making, social interactions, and civic engagement.')]"
      ]
     },
     "execution_count": 6,
     "metadata": {},
     "output_type": "execute_result"
    }
   ],
   "source": [
    "splitter = RecursiveCharacterTextSplitter(chunk_size=100, chunk_overlap=50)\n",
    "splitted_data = splitter.split_documents(loaded_data)\n",
    "splitted_data\n"
   ]
  },
  {
   "cell_type": "code",
   "execution_count": null,
   "id": "ab307d2f",
   "metadata": {},
   "outputs": [],
   "source": []
  }
 ],
 "metadata": {
  "kernelspec": {
   "display_name": "genaiproject",
   "language": "python",
   "name": "python3"
  },
  "language_info": {
   "codemirror_mode": {
    "name": "ipython",
    "version": 3
   },
   "file_extension": ".py",
   "mimetype": "text/x-python",
   "name": "python",
   "nbconvert_exporter": "python",
   "pygments_lexer": "ipython3",
   "version": "3.10.18"
  }
 },
 "nbformat": 4,
 "nbformat_minor": 5
}
